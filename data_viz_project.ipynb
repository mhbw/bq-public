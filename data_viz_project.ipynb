{
 "cells": [
  {
   "cell_type": "code",
   "execution_count": 1,
   "metadata": {},
   "outputs": [],
   "source": [
    "from google.cloud import bigquery\n",
    "import pandas as pd\n",
    "import requests\n",
    "import json\n",
    "import os"
   ]
  },
  {
   "cell_type": "code",
   "execution_count": null,
   "metadata": {},
   "outputs": [],
   "source": [
    "# Create a client object\n",
    "client = bigquery.Client()\n",
    "\n",
    "# Your SQL query to fetch data from the view\n",
    "query = \"\"\"\n",
    "SELECT *\n",
    "FROM `your_project.your_dataset.your_view_name`\n",
    "WHERE some_condition = 'some_value'\n",
    "LIMIT 1000\n",
    "\"\"\"\n",
    "\n",
    "# Execute the query and load results into a pandas DataFrame\n",
    "df = client.query(query).to_dataframe()\n",
    "\n",
    "# Now you can work with the data in the DataFrame\n",
    "print(df.head())\n"
   ]
  },
  {
   "cell_type": "code",
   "execution_count": null,
   "metadata": {},
   "outputs": [],
   "source": [
    "import requests\n",
    "import pandas as pd\n",
    "\n",
    "def get_acs_data(api_key, year, table_id, state_fips):\n",
    "    # Base URL for the Census API\n",
    "    base_url = f\"https://api.census.gov/data/{year}/acs/acs5\"\n",
    "    \n",
    "    # Constructing the API request\n",
    "    params = {\n",
    "        \"get\": f\"NAME,{table_id}_001E\",\n",
    "        \"for\": \"county:*\",\n",
    "        \"in\": f\"state:{state_fips}\",\n",
    "        \"key\": api_key\n",
    "    }\n",
    "    \n",
    "    # Making the API request\n",
    "    response = requests.get(base_url, params=params)\n",
    "    \n",
    "    # Check if the request was successful\n",
    "    if response.status_code == 200:\n",
    "        # Convert the response to a pandas DataFrame\n",
    "        data = pd.DataFrame(response.json()[1:], columns=response.json()[0])\n",
    "        return data\n",
    "    else:\n",
    "        print(f\"Error: {response.status_code}\")\n",
    "        return None\n",
    "\n",
    "# Example usage\n",
    "api_key = \"YOUR_CENSUS_API_KEY\"\n",
    "year = \"2021\"\n",
    "table_id = \"B01003\"  # Total population\n",
    "state_fips = \"06\"  # California\n",
    "\n",
    "data = get_acs_data(api_key, year, table_id, state_fips)\n",
    "\n",
    "if data is not None:\n",
    "    print(data.head())"
   ]
  },
  {
   "cell_type": "code",
   "execution_count": 17,
   "metadata": {},
   "outputs": [
    {
     "ename": "AttributeError",
     "evalue": "'list' object has no attribute 'pd'",
     "output_type": "error",
     "traceback": [
      "\u001b[0;31m---------------------------------------------------------------------------\u001b[0m",
      "\u001b[0;31mAttributeError\u001b[0m                            Traceback (most recent call last)",
      "Cell \u001b[0;32mIn[17], line 13\u001b[0m\n\u001b[1;32m      9\u001b[0m response \u001b[38;5;241m=\u001b[39m requests\u001b[38;5;241m.\u001b[39mget(url)\n\u001b[1;32m     11\u001b[0m file \u001b[38;5;241m=\u001b[39m json\u001b[38;5;241m.\u001b[39mloads(response\u001b[38;5;241m.\u001b[39mtext)\n\u001b[0;32m---> 13\u001b[0m file \u001b[38;5;241m=\u001b[39m \u001b[43mfile\u001b[49m\u001b[38;5;241;43m.\u001b[39;49m\u001b[43mpd\u001b[49m\u001b[38;5;241m.\u001b[39mDataFrame()\n\u001b[1;32m     15\u001b[0m file\n",
      "\u001b[0;31mAttributeError\u001b[0m: 'list' object has no attribute 'pd'"
     ]
    }
   ],
   "source": [
    "api_key = os.getenv('CENSUS_API_KEY')\n",
    "#reference: https://www.census.gov/data/developers/guidance/api-user-guide/example-api-queries.html\n",
    "\n",
    "state = '40'\n",
    "table = 'C16010_003E' #Estimate!!Total:!!Less than high school graduate:!!In labor force: \n",
    "        # EDUCATIONAL ATTAINMENT AND EMPLOYMENT STATUS BY LANGUAGE SPOKEN AT HOME FOR THE POPULATION 25 YEARS AND OVER\n",
    "url = f'https://api.census.gov/data/2022/acs/acs1?get=NAME,{table}&for=county:*&in=state:{state}&key={api_key}'\n",
    "\n",
    "response = requests.get(url)\n",
    "        \n",
    "file = json.loads(response.text)\n",
    "\n",
    "file = file.pd.DataFrame()\n",
    "\n",
    "file"
   ]
  }
 ],
 "metadata": {
  "kernelspec": {
   "display_name": "venv",
   "language": "python",
   "name": "python3"
  },
  "language_info": {
   "codemirror_mode": {
    "name": "ipython",
    "version": 3
   },
   "file_extension": ".py",
   "mimetype": "text/x-python",
   "name": "python",
   "nbconvert_exporter": "python",
   "pygments_lexer": "ipython3",
   "version": "3.12.1"
  }
 },
 "nbformat": 4,
 "nbformat_minor": 2
}
