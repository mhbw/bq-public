{
 "cells": [
  {
   "cell_type": "markdown",
   "metadata": {},
   "source": [
    "# Using the Census API\n",
    "\n",
    "endpoint: https://api.census.gov/data \\\n",
    "reference on formatting the URL: https://www.census.gov/data/developers/guidance/api-user-guide/example-api-queries.html \\\n",
    "reference on finding names: https://api.census.gov/data/2022/acs/acs1/variables.html \\\n",
    "reference on finding locations:  https://api.census.gov/data/2022/acs/acs1/examples.html\n",
    "\n",
    "\n",
    "\n",
    "1. create an .env file with your census API key\n",
    "2. create a .gitignore file that includes your .env\n",
    "3. load the API key using the os package\n",
    "4. get the census data for Georgia\n",
    "5. get the census data for Georgia by county"
   ]
  },
  {
   "cell_type": "code",
   "execution_count": null,
   "metadata": {},
   "outputs": [],
   "source": [
    "#try it here!\n",
    "\n"
   ]
  },
  {
   "cell_type": "code",
   "execution_count": null,
   "metadata": {},
   "outputs": [],
   "source": [
    "#census API solution\n",
    "\n",
    "import os\n",
    "import requests\n",
    "import json\n",
    "\n",
    "api_key = os.getenv('CENSUS_API_KEY')\n",
    "#reference: https://www.census.gov/data/developers/guidance/api-user-guide/example-api-queries.html\n",
    "url = f'https://api.census.gov/data/2022/acs/acs1?get=NAME,B01001_001E&for=county:*&in=state:13&key={api_key}'\n",
    "\n",
    "response = requests.get(url)\n",
    "json.loads(response.text)\n"
   ]
  },
  {
   "cell_type": "markdown",
   "metadata": {},
   "source": [
    "# Using parsons.Census\n",
    "\n",
    "1. in your terminal, run: \n",
    "```pip install parsons```\n",
    "2. reference the Parsons documentation to build your API calls: https://move-coop.github.io/parsons/html/stable/census.html"
   ]
  },
  {
   "cell_type": "code",
   "execution_count": null,
   "metadata": {},
   "outputs": [],
   "source": [
    "#try it here!\n"
   ]
  },
  {
   "cell_type": "code",
   "execution_count": null,
   "metadata": {},
   "outputs": [],
   "source": [
    "# Parsons solution\n",
    "\n",
    "from parsons import Census\n",
    "import os\n",
    "\n",
    "year = '2022'\n",
    "dataset_acronym = '/acs/acs1'\n",
    "#reference: https://api.census.gov/data/2019/acs/acs1/variables.html \n",
    "variables = 'NAME,B01001_001E'\n",
    "#pass a county wildcard and mandate state of Georgia (census state # 13)\n",
    "#reference: https://api.census.gov/data/2019/acs/acs1/examples.html\n",
    "location = 'county:*&in=state:13'\n",
    "client = Census(api_key = os.getenv('CENSUS_API_KEY'))\n",
    "t = client.get_census(year, dataset_acronym, variables, location)\n",
    "print(t)\n"
   ]
  }
 ],
 "metadata": {
  "kernelspec": {
   "display_name": ".venv",
   "language": "python",
   "name": "python3"
  },
  "language_info": {
   "codemirror_mode": {
    "name": "ipython",
    "version": 3
   },
   "file_extension": ".py",
   "mimetype": "text/x-python",
   "name": "python",
   "nbconvert_exporter": "python",
   "pygments_lexer": "ipython3",
   "version": "3.10.13"
  }
 },
 "nbformat": 4,
 "nbformat_minor": 2
}
